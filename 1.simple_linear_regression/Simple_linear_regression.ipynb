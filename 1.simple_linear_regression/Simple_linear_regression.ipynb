{
  "nbformat": 4,
  "nbformat_minor": 0,
  "metadata": {
    "colab": {
      "provenance": []
    },
    "kernelspec": {
      "name": "python3",
      "display_name": "Python 3"
    },
    "language_info": {
      "name": "python"
    }
  },
  "cells": [
    {
      "cell_type": "code",
      "source": [
        "import random\n",
        "import matplotlib.pyplot as plt\n",
        "import numpy as np\n",
        "import math"
      ],
      "metadata": {
        "id": "PM2qIHSgUmxI"
      },
      "execution_count": null,
      "outputs": []
    },
    {
      "cell_type": "code",
      "source": [
        "!wget https://raw.githubusercontent.com/Mehrdadghassabi/fundamental_nueral_network_course_notebooks/main/simple_linear_regression/train.txt\n",
        "!wget https://raw.githubusercontent.com/Mehrdadghassabi/fundamental_nueral_network_course_notebooks/main/simple_linear_regression/test.txt"
      ],
      "metadata": {
        "colab": {
          "base_uri": "https://localhost:8080/"
        },
        "id": "kqEhFsxbUqc2",
        "outputId": "a7fbe6e8-761a-429c-ebec-cc2d1e050c76"
      },
      "execution_count": 5,
      "outputs": [
        {
          "output_type": "stream",
          "name": "stdout",
          "text": [
            "--2023-12-18 09:48:07--  https://raw.githubusercontent.com/Mehrdadghassabi/fundamental_nueral_network_course_notebooks/main/simple_linear_regression/train.txt\n",
            "Resolving raw.githubusercontent.com (raw.githubusercontent.com)... 185.199.111.133, 185.199.108.133, 185.199.110.133, ...\n",
            "Connecting to raw.githubusercontent.com (raw.githubusercontent.com)|185.199.111.133|:443... connected.\n",
            "HTTP request sent, awaiting response... 200 OK\n",
            "Length: 3223 (3.1K) [text/plain]\n",
            "Saving to: ‘train.txt’\n",
            "\n",
            "\rtrain.txt             0%[                    ]       0  --.-KB/s               \rtrain.txt           100%[===================>]   3.15K  --.-KB/s    in 0s      \n",
            "\n",
            "2023-12-18 09:48:07 (70.2 MB/s) - ‘train.txt’ saved [3223/3223]\n",
            "\n",
            "--2023-12-18 09:48:07--  https://raw.githubusercontent.com/Mehrdadghassabi/fundamental_nueral_network_course_notebooks/main/simple_linear_regression/test.txt\n",
            "Resolving raw.githubusercontent.com (raw.githubusercontent.com)... 185.199.110.133, 185.199.108.133, 185.199.111.133, ...\n",
            "Connecting to raw.githubusercontent.com (raw.githubusercontent.com)|185.199.110.133|:443... connected.\n",
            "HTTP request sent, awaiting response... 200 OK\n",
            "Length: 3247 (3.2K) [text/plain]\n",
            "Saving to: ‘test.txt’\n",
            "\n",
            "test.txt            100%[===================>]   3.17K  --.-KB/s    in 0s      \n",
            "\n",
            "2023-12-18 09:48:07 (57.0 MB/s) - ‘test.txt’ saved [3247/3247]\n",
            "\n"
          ]
        }
      ]
    },
    {
      "cell_type": "code",
      "source": [
        "def extract_data_from_file(filename):\n",
        "    data_x = []\n",
        "    data_y = []\n",
        "    f = open(filename, \"r\")\n",
        "    c = f.read()\n",
        "    for line in c.splitlines():\n",
        "        xn = float(line.split(' ')[0])\n",
        "        yn = float(line.split(' ')[1])\n",
        "        data_x.append(xn)\n",
        "        data_y.append(yn)\n",
        "    return data_x,data_y"
      ],
      "metadata": {
        "id": "6BljafGPqcq9"
      },
      "execution_count": 6,
      "outputs": []
    },
    {
      "cell_type": "code",
      "source": [
        "train_x,train_y = extract_data_from_file(\"train.txt\")\n",
        "test_x,test_y = extract_data_from_file(\"test.txt\")"
      ],
      "metadata": {
        "id": "7tujjiZMsUBH"
      },
      "execution_count": 7,
      "outputs": []
    },
    {
      "cell_type": "code",
      "source": [
        "plt.plot(train_x, train_y,'o')\n",
        "plt.show()"
      ],
      "metadata": {
        "colab": {
          "base_uri": "https://localhost:8080/",
          "height": 430
        },
        "id": "MDo5s_fzpmIV",
        "outputId": "21c62458-11fd-41ea-90a4-28fc0bb2ab6f"
      },
      "execution_count": 8,
      "outputs": [
        {
          "output_type": "display_data",
          "data": {
            "text/plain": [
              "<Figure size 640x480 with 1 Axes>"
            ],
            "image/png": "[encoded data removed]"
          },
          "metadata": {}
        }
      ]
    },
    {
      "cell_type": "code",
      "source": [
        "def cost(a,b):\n",
        "    sum = 0\n",
        "    for i in range(len(train_x)):\n",
        "        y = a*train_x[i]+b\n",
        "        yhat = train_y[i]\n",
        "        sum += math.pow(y-yhat,2)\n",
        "    return sum/len(train_x)"
      ],
      "metadata": {
        "id": "pkDrB1eWaNpW"
      },
      "execution_count": 39,
      "outputs": []
    },
    {
      "cell_type": "code",
      "source": [
        "a = 37\n",
        "b = 20\n",
        "print(cost(a,b))"
      ],
      "metadata": {
        "id": "iR1hxL4DaQd2"
      },
      "execution_count": null,
      "outputs": []
    },
    {
      "cell_type": "markdown",
      "source": [
        "simple linear regression:\n",
        "estimating y\n",
        "given x using this formula y = ax+b the close form solution is\n",
        "\n",
        "a = (Σxy / Σx²)\n",
        "\n",
        "b = (Σy / n) — (ΣxΣy / Σx²n)\n",
        "\n",
        "see this for more information:\n",
        "https://medium.com/@dancerworld60/deriving-simple-linear-regression-from-scratch-closed-form-solution-and-python-implementation-e0eaccb08f1"
      ],
      "metadata": {
        "id": "iOP_75qhDByC"
      }
    },
    {
      "cell_type": "code",
      "source": [
        "sigma_x2 = 0\n",
        "sigma_xy = 0\n",
        "sigma_x = 0\n",
        "sigma_y = 0\n",
        "n = len(train_x)\n",
        "for i in range(len(train_x)):\n",
        "      sigma_x += train_x[i]\n",
        "      sigma_y += train_y[i]\n",
        "      sigma_x2 += train_x[i]*train_x[i]\n",
        "      sigma_xy += train_x[i]*train_y[i]\n",
        "sigma_x2 /= n\n",
        "sigma_xy /= n\n",
        "sigma_x /= n\n",
        "sigma_y /= n\n",
        "a = sigma_xy/sigma_x2\n",
        "b = (sigma_y/n) - ((sigma_x*sigma_y)/(sigma_x2*n))\n",
        "print(\"a: \" + str(a))\n",
        "print(\"b: \" + str(b))\n",
        "print(\"cost: \"+str(cost(a,b)))"
      ],
      "metadata": {
        "colab": {
          "base_uri": "https://localhost:8080/"
        },
        "id": "nHvPBTUvR_Kw",
        "outputId": "2078fa05-be48-49f6-ee48-436b460568fd"
      },
      "execution_count": 38,
      "outputs": [
        {
          "output_type": "stream",
          "name": "stdout",
          "text": [
            "a: 45.05636345330746\n",
            "b: 0.10906131108119746\n",
            "cost: 3.8949958946465997\n"
          ]
        }
      ]
    },
    {
      "cell_type": "markdown",
      "source": [
        "choosing a & b randomly:"
      ],
      "metadata": {
        "id": "13aW9hHWbqrf"
      }
    },
    {
      "cell_type": "code",
      "source": [
        "min_a = 100\n",
        "min_b = 2\n",
        "min_cost = cost(min_a,min_b)\n",
        "for i in range(100):\n",
        "    new_a = random.randrange(0,30)\n",
        "    new_b = random.randrange(0,30)\n",
        "    if cost(new_a,new_b)< min_cost:\n",
        "       min_cost = cost(new_a,new_b)\n",
        "       min_a = new_a\n",
        "       min_b = new_b\n",
        "print(\"a: \" +str(min_a))\n",
        "print(\"b: \"+ str(min_b))\n",
        "print(\"cost: \"+ str(min_cost))"
      ],
      "metadata": {
        "colab": {
          "base_uri": "https://localhost:8080/"
        },
        "id": "rJ3gpOintAx0",
        "outputId": "901ed530-d8d3-4c8a-ce8c-d8d51211fe6e"
      },
      "execution_count": 42,
      "outputs": [
        {
          "output_type": "stream",
          "name": "stdout",
          "text": [
            "a: 28\n",
            "b: 27\n",
            "cost: 25.506117333333332\n"
          ]
        }
      ]
    },
    {
      "cell_type": "markdown",
      "source": [
        "gradient descent:\n",
        "begin with a random (a,b) and update parametre in appropriate direction\n",
        "\n",
        "a = a - dcost/da\n",
        "\n",
        "b = b - dcost/db"
      ],
      "metadata": {
        "id": "2B4K7AmncPAP"
      }
    },
    {
      "cell_type": "code",
      "source": [
        "a = 30\n",
        "b = 10\n",
        "for i in range(40000):\n",
        "    #print(i)\n",
        "    for j in range(len(train_x)):\n",
        "        y = a * train_x[j] + b\n",
        "        yhat = train_y[j]\n",
        "        a = a - 0.001 * 2*(y-yhat)* train_x[j]\n",
        "        b = b - 0.001 * 2*(y-yhat)\n",
        "\n",
        "print(\"a: \" +str(a))\n",
        "print(\"b: \"+ str(b))\n",
        "print(\"cost: \"+ str(cost(a,b)))"
      ],
      "metadata": {
        "colab": {
          "base_uri": "https://localhost:8080/"
        },
        "id": "k_vPc1MguS7g",
        "outputId": "ae591f7d-8ed6-4328-e0a6-7bec5fbe9a92"
      },
      "execution_count": 44,
      "outputs": [
        {
          "output_type": "stream",
          "name": "stdout",
          "text": [
            "a: 44.80980419260168\n",
            "b: 0.4956241900607018\n",
            "cost: 3.8843467314451336\n"
          ]
        }
      ]
    }
  ]
}